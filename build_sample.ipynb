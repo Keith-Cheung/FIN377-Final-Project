{
 "cells": [
  {
   "cell_type": "code",
   "execution_count": 2,
   "id": "0763204a-cdcc-4001-a95c-3216532dc595",
   "metadata": {},
   "outputs": [],
   "source": [
    "import pandas as pd\n",
    "import numpy as np\n",
    "from statsmodels.formula.api import ols as sm_ols\n",
    "from statsmodels.iolib.summary2 import summary_col"
   ]
  },
  {
   "cell_type": "code",
   "execution_count": 5,
   "id": "60ed3aca-9f7e-4e68-a424-6dae71371a73",
   "metadata": {},
   "outputs": [
    {
     "data": {
      "text/html": [
       "<div>\n",
       "<style scoped>\n",
       "    .dataframe tbody tr th:only-of-type {\n",
       "        vertical-align: middle;\n",
       "    }\n",
       "\n",
       "    .dataframe tbody tr th {\n",
       "        vertical-align: top;\n",
       "    }\n",
       "\n",
       "    .dataframe thead th {\n",
       "        text-align: right;\n",
       "    }\n",
       "</style>\n",
       "<table border=\"1\" class=\"dataframe\">\n",
       "  <thead>\n",
       "    <tr style=\"text-align: right;\">\n",
       "      <th></th>\n",
       "      <th>2015 Founding</th>\n",
       "      <th>Unnamed: 1</th>\n",
       "      <th>Unnamed: 2</th>\n",
       "      <th>Unnamed: 3</th>\n",
       "      <th>Unnamed: 4</th>\n",
       "    </tr>\n",
       "  </thead>\n",
       "  <tbody>\n",
       "    <tr>\n",
       "      <th>0</th>\n",
       "      <td>Year Ended</td>\n",
       "      <td>Surviving Establishments</td>\n",
       "      <td>Total Employment of Survivors</td>\n",
       "      <td>Survival Rates Since Birth (%)</td>\n",
       "      <td>Labor Force Participation Rate (%)</td>\n",
       "    </tr>\n",
       "    <tr>\n",
       "      <th>1</th>\n",
       "      <td>Mar-15</td>\n",
       "      <td>677,876</td>\n",
       "      <td>3,011,469</td>\n",
       "      <td>100</td>\n",
       "      <td>4.4</td>\n",
       "    </tr>\n",
       "    <tr>\n",
       "      <th>2</th>\n",
       "      <td>Mar-16</td>\n",
       "      <td>539,701</td>\n",
       "      <td>3,073,279</td>\n",
       "      <td>79.6</td>\n",
       "      <td>5.7</td>\n",
       "    </tr>\n",
       "    <tr>\n",
       "      <th>3</th>\n",
       "      <td>Mar-17</td>\n",
       "      <td>468,293</td>\n",
       "      <td>3,081,916</td>\n",
       "      <td>69.1</td>\n",
       "      <td>6.6</td>\n",
       "    </tr>\n",
       "    <tr>\n",
       "      <th>4</th>\n",
       "      <td>Mar-18</td>\n",
       "      <td>416,438</td>\n",
       "      <td>3,075,769</td>\n",
       "      <td>61.4</td>\n",
       "      <td>7.4</td>\n",
       "    </tr>\n",
       "    <tr>\n",
       "      <th>...</th>\n",
       "      <td>...</td>\n",
       "      <td>...</td>\n",
       "      <td>...</td>\n",
       "      <td>...</td>\n",
       "      <td>...</td>\n",
       "    </tr>\n",
       "    <tr>\n",
       "      <th>64</th>\n",
       "      <td>Mar-23</td>\n",
       "      <td>818,549</td>\n",
       "      <td>3,717,341</td>\n",
       "      <td>76.8</td>\n",
       "      <td>4.5</td>\n",
       "    </tr>\n",
       "    <tr>\n",
       "      <th>65</th>\n",
       "      <td>NaN</td>\n",
       "      <td>NaN</td>\n",
       "      <td>NaN</td>\n",
       "      <td>NaN</td>\n",
       "      <td>NaN</td>\n",
       "    </tr>\n",
       "    <tr>\n",
       "      <th>66</th>\n",
       "      <td>2023</td>\n",
       "      <td>NaN</td>\n",
       "      <td>NaN</td>\n",
       "      <td>NaN</td>\n",
       "      <td>NaN</td>\n",
       "    </tr>\n",
       "    <tr>\n",
       "      <th>67</th>\n",
       "      <td>Year Ended</td>\n",
       "      <td>Surviving Establishments</td>\n",
       "      <td>Total Employment of Survivors</td>\n",
       "      <td>Survival Rates Since Birth (%)</td>\n",
       "      <td>Labor Force Participation Rate (%)</td>\n",
       "    </tr>\n",
       "    <tr>\n",
       "      <th>68</th>\n",
       "      <td>Mar-23</td>\n",
       "      <td>1,054,052</td>\n",
       "      <td>3,710,694</td>\n",
       "      <td>100</td>\n",
       "      <td>3.5</td>\n",
       "    </tr>\n",
       "  </tbody>\n",
       "</table>\n",
       "<p>69 rows × 5 columns</p>\n",
       "</div>"
      ],
      "text/plain": [
       "   2015 Founding                Unnamed: 1                     Unnamed: 2  \\\n",
       "0     Year Ended  Surviving Establishments  Total Employment of Survivors   \n",
       "1         Mar-15                   677,876                      3,011,469   \n",
       "2         Mar-16                   539,701                      3,073,279   \n",
       "3         Mar-17                   468,293                      3,081,916   \n",
       "4         Mar-18                   416,438                      3,075,769   \n",
       "..           ...                       ...                            ...   \n",
       "64        Mar-23                   818,549                      3,717,341   \n",
       "65           NaN                       NaN                            NaN   \n",
       "66          2023                       NaN                            NaN   \n",
       "67    Year Ended  Surviving Establishments  Total Employment of Survivors   \n",
       "68        Mar-23                 1,054,052                      3,710,694   \n",
       "\n",
       "                        Unnamed: 3                          Unnamed: 4  \n",
       "0   Survival Rates Since Birth (%)  Labor Force Participation Rate (%)  \n",
       "1                              100                                 4.4  \n",
       "2                             79.6                                 5.7  \n",
       "3                             69.1                                 6.6  \n",
       "4                             61.4                                 7.4  \n",
       "..                             ...                                 ...  \n",
       "64                            76.8                                 4.5  \n",
       "65                             NaN                                 NaN  \n",
       "66                             NaN                                 NaN  \n",
       "67  Survival Rates Since Birth (%)  Labor Force Participation Rate (%)  \n",
       "68                             100                                 3.5  \n",
       "\n",
       "[69 rows x 5 columns]"
      ]
     },
     "execution_count": 5,
     "metadata": {},
     "output_type": "execute_result"
    }
   ],
   "source": [
    "startups = (pd.read_csv('Startup Data/startup.csv'))\n",
    "startups "
   ]
  },
  {
   "cell_type": "code",
   "execution_count": 6,
   "id": "424e2ca4-f30e-468a-95e9-903c55d0fae0",
   "metadata": {},
   "outputs": [
    {
     "ename": "KeyError",
     "evalue": "\"None of [Index(['Year EndedSurviving Establishments'], dtype='object')] are in the [columns]\"",
     "output_type": "error",
     "traceback": [
      "\u001b[0;31m---------------------------------------------------------------------------\u001b[0m",
      "\u001b[0;31mKeyError\u001b[0m                                  Traceback (most recent call last)",
      "Cell \u001b[0;32mIn[6], line 2\u001b[0m\n\u001b[1;32m      1\u001b[0m selected_columns \u001b[38;5;241m=\u001b[39m [\u001b[38;5;124m'\u001b[39m\u001b[38;5;124mYear Ended\u001b[39m\u001b[38;5;124m'\u001b[39m \u001b[38;5;124m'\u001b[39m\u001b[38;5;124mSurviving Establishments\u001b[39m\u001b[38;5;124m'\u001b[39m]\n\u001b[0;32m----> 2\u001b[0m startups_final  \u001b[38;5;241m=\u001b[39m startups[selected_columns]\n",
      "File \u001b[0;32m~/anaconda3/lib/python3.11/site-packages/pandas/core/frame.py:3767\u001b[0m, in \u001b[0;36mDataFrame.__getitem__\u001b[0;34m(self, key)\u001b[0m\n\u001b[1;32m   3765\u001b[0m     \u001b[38;5;28;01mif\u001b[39;00m is_iterator(key):\n\u001b[1;32m   3766\u001b[0m         key \u001b[38;5;241m=\u001b[39m \u001b[38;5;28mlist\u001b[39m(key)\n\u001b[0;32m-> 3767\u001b[0m     indexer \u001b[38;5;241m=\u001b[39m \u001b[38;5;28mself\u001b[39m\u001b[38;5;241m.\u001b[39mcolumns\u001b[38;5;241m.\u001b[39m_get_indexer_strict(key, \u001b[38;5;124m\"\u001b[39m\u001b[38;5;124mcolumns\u001b[39m\u001b[38;5;124m\"\u001b[39m)[\u001b[38;5;241m1\u001b[39m]\n\u001b[1;32m   3769\u001b[0m \u001b[38;5;66;03m# take() does not accept boolean indexers\u001b[39;00m\n\u001b[1;32m   3770\u001b[0m \u001b[38;5;28;01mif\u001b[39;00m \u001b[38;5;28mgetattr\u001b[39m(indexer, \u001b[38;5;124m\"\u001b[39m\u001b[38;5;124mdtype\u001b[39m\u001b[38;5;124m\"\u001b[39m, \u001b[38;5;28;01mNone\u001b[39;00m) \u001b[38;5;241m==\u001b[39m \u001b[38;5;28mbool\u001b[39m:\n",
      "File \u001b[0;32m~/anaconda3/lib/python3.11/site-packages/pandas/core/indexes/base.py:5877\u001b[0m, in \u001b[0;36mIndex._get_indexer_strict\u001b[0;34m(self, key, axis_name)\u001b[0m\n\u001b[1;32m   5874\u001b[0m \u001b[38;5;28;01melse\u001b[39;00m:\n\u001b[1;32m   5875\u001b[0m     keyarr, indexer, new_indexer \u001b[38;5;241m=\u001b[39m \u001b[38;5;28mself\u001b[39m\u001b[38;5;241m.\u001b[39m_reindex_non_unique(keyarr)\n\u001b[0;32m-> 5877\u001b[0m \u001b[38;5;28mself\u001b[39m\u001b[38;5;241m.\u001b[39m_raise_if_missing(keyarr, indexer, axis_name)\n\u001b[1;32m   5879\u001b[0m keyarr \u001b[38;5;241m=\u001b[39m \u001b[38;5;28mself\u001b[39m\u001b[38;5;241m.\u001b[39mtake(indexer)\n\u001b[1;32m   5880\u001b[0m \u001b[38;5;28;01mif\u001b[39;00m \u001b[38;5;28misinstance\u001b[39m(key, Index):\n\u001b[1;32m   5881\u001b[0m     \u001b[38;5;66;03m# GH 42790 - Preserve name from an Index\u001b[39;00m\n",
      "File \u001b[0;32m~/anaconda3/lib/python3.11/site-packages/pandas/core/indexes/base.py:5938\u001b[0m, in \u001b[0;36mIndex._raise_if_missing\u001b[0;34m(self, key, indexer, axis_name)\u001b[0m\n\u001b[1;32m   5936\u001b[0m     \u001b[38;5;28;01mif\u001b[39;00m use_interval_msg:\n\u001b[1;32m   5937\u001b[0m         key \u001b[38;5;241m=\u001b[39m \u001b[38;5;28mlist\u001b[39m(key)\n\u001b[0;32m-> 5938\u001b[0m     \u001b[38;5;28;01mraise\u001b[39;00m \u001b[38;5;167;01mKeyError\u001b[39;00m(\u001b[38;5;124mf\u001b[39m\u001b[38;5;124m\"\u001b[39m\u001b[38;5;124mNone of [\u001b[39m\u001b[38;5;132;01m{\u001b[39;00mkey\u001b[38;5;132;01m}\u001b[39;00m\u001b[38;5;124m] are in the [\u001b[39m\u001b[38;5;132;01m{\u001b[39;00maxis_name\u001b[38;5;132;01m}\u001b[39;00m\u001b[38;5;124m]\u001b[39m\u001b[38;5;124m\"\u001b[39m)\n\u001b[1;32m   5940\u001b[0m not_found \u001b[38;5;241m=\u001b[39m \u001b[38;5;28mlist\u001b[39m(ensure_index(key)[missing_mask\u001b[38;5;241m.\u001b[39mnonzero()[\u001b[38;5;241m0\u001b[39m]]\u001b[38;5;241m.\u001b[39munique())\n\u001b[1;32m   5941\u001b[0m \u001b[38;5;28;01mraise\u001b[39;00m \u001b[38;5;167;01mKeyError\u001b[39;00m(\u001b[38;5;124mf\u001b[39m\u001b[38;5;124m\"\u001b[39m\u001b[38;5;132;01m{\u001b[39;00mnot_found\u001b[38;5;132;01m}\u001b[39;00m\u001b[38;5;124m not in index\u001b[39m\u001b[38;5;124m\"\u001b[39m)\n",
      "\u001b[0;31mKeyError\u001b[0m: \"None of [Index(['Year EndedSurviving Establishments'], dtype='object')] are in the [columns]\""
     ]
    }
   ],
   "source": [
    "selected_columns = ['Year Ended' 'Surviving Establishments']\n",
    "startups_numbers  = startups[selected_columns]\n",
    "startups_numbers.to_csv('startup_numbers.csv', index=False)"
   ]
  },
  {
   "cell_type": "code",
   "execution_count": null,
   "id": "67c0f4e4-4305-469b-993d-b3c2e411854a",
   "metadata": {},
   "outputs": [],
   "source": [
    "wfh = (pd.read_csv('WFH_DATA'))\n",
    "wfh"
   ]
  },
  {
   "cell_type": "code",
   "execution_count": null,
   "id": "4d25884e-8f16-4cac-971f-7e41f7e33e51",
   "metadata": {},
   "outputs": [],
   "source": [
    "wfh_startups = lambda how: pd.merge(left=wfh,\n",
    "                                   right=startups,\n",
    "                                   on=['fyear'],\n",
    "                                   how=how,indicator=True,validate=\"one_to_one\")"
   ]
  },
  {
   "cell_type": "code",
   "execution_count": null,
   "id": "01cfb260-ce53-45e0-97a4-35d5a57a96f0",
   "metadata": {},
   "outputs": [],
   "source": [
    "# Run OLS\n",
    "m1 = sm_ols('wfh% ~ startups#', data=wfh_startups).fit()\n",
    "m2 = sm_ols('wfh% ~ log_startups#', data=wfh_startups).fit()\n",
    "m3 = sm_ols('log_wfh% ~ startups#', data=wfh_startups).fit()\n",
    "\n",
    "# Print out multiple regression results at once\n",
    "table = summary_col(results=[m1,m2,m3],\n",
    "                    float_format='%0.2f',\n",
    "                    stars = True,\n",
    "                    model_names=['m1','m2','m3'],\n",
    "                    info_dict=info_dict)\n",
    "\n",
    "print(table)\n"
   ]
  },
  {
   "cell_type": "code",
   "execution_count": null,
   "id": "b0222a24-e085-4482-b894-c647d1f7d07f",
   "metadata": {},
   "outputs": [],
   "source": [
    "lineplot1 = sns.lineplot(data = wfh_startups,\n",
    "             x='wfh%',y='startups',hue='high_leverage') #style='gsector'"
   ]
  },
  {
   "cell_type": "code",
   "execution_count": null,
   "id": "39da8429-9c55-40ad-abd0-19d17520339d",
   "metadata": {},
   "outputs": [],
   "source": [
    "lineplot2 = sns.lineplot(data = wfh_startups,\n",
    "             x='wfh%',y='log_startups',hue='high_leverage') #style='gsector'"
   ]
  },
  {
   "cell_type": "code",
   "execution_count": null,
   "id": "82c7db1a-45e8-4017-9742-310a4770f6b7",
   "metadata": {},
   "outputs": [],
   "source": [
    "lineplot3 = sns.lineplot(data = wfh_startups,\n",
    "             x='log_wfh%',y='startups',hue='high_leverage') #style='gsector'"
   ]
  },
  {
   "cell_type": "code",
   "execution_count": null,
   "id": "30ada9bd-4f9e-4973-8353-1da53e7f47f6",
   "metadata": {},
   "outputs": [],
   "source": []
  }
 ],
 "metadata": {
  "kernelspec": {
   "display_name": "Python 3 (ipykernel)",
   "language": "python",
   "name": "python3"
  },
  "language_info": {
   "codemirror_mode": {
    "name": "ipython",
    "version": 3
   },
   "file_extension": ".py",
   "mimetype": "text/x-python",
   "name": "python",
   "nbconvert_exporter": "python",
   "pygments_lexer": "ipython3",
   "version": "3.11.5"
  }
 },
 "nbformat": 4,
 "nbformat_minor": 5
}
