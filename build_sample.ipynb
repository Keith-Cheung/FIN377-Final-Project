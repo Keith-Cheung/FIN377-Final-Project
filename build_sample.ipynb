{
 "cells": [
  {
   "cell_type": "code",
   "execution_count": 1,
   "id": "0763204a-cdcc-4001-a95c-3216532dc595",
   "metadata": {},
   "outputs": [],
   "source": [
    "import pandas as pd\n",
    "import numpy as np\n",
    "from statsmodels.formula.api import ols as sm_ols\n",
    "from statsmodels.iolib.summary2 import summary_col"
   ]
  },
  {
   "cell_type": "code",
   "execution_count": 2,
   "id": "60ed3aca-9f7e-4e68-a424-6dae71371a73",
   "metadata": {},
   "outputs": [
    {
     "data": {
      "text/html": [
       "<div>\n",
       "<style scoped>\n",
       "    .dataframe tbody tr th:only-of-type {\n",
       "        vertical-align: middle;\n",
       "    }\n",
       "\n",
       "    .dataframe tbody tr th {\n",
       "        vertical-align: top;\n",
       "    }\n",
       "\n",
       "    .dataframe thead th {\n",
       "        text-align: right;\n",
       "    }\n",
       "</style>\n",
       "<table border=\"1\" class=\"dataframe\">\n",
       "  <thead>\n",
       "    <tr style=\"text-align: right;\">\n",
       "      <th></th>\n",
       "      <th>Year Ended</th>\n",
       "      <th>Surviving Establishments</th>\n",
       "      <th>Total Employment of Survivors</th>\n",
       "      <th>Survival Rates Since Birth (%)</th>\n",
       "      <th>Labor Force Participation Rate (%)</th>\n",
       "    </tr>\n",
       "  </thead>\n",
       "  <tbody>\n",
       "    <tr>\n",
       "      <th>0</th>\n",
       "      <td>Mar-15</td>\n",
       "      <td>677,876</td>\n",
       "      <td>3,011,469</td>\n",
       "      <td>100.0</td>\n",
       "      <td>4.4</td>\n",
       "    </tr>\n",
       "    <tr>\n",
       "      <th>1</th>\n",
       "      <td>Mar-16</td>\n",
       "      <td>539,701</td>\n",
       "      <td>3,073,279</td>\n",
       "      <td>79.6</td>\n",
       "      <td>5.7</td>\n",
       "    </tr>\n",
       "    <tr>\n",
       "      <th>2</th>\n",
       "      <td>Mar-17</td>\n",
       "      <td>468,293</td>\n",
       "      <td>3,081,916</td>\n",
       "      <td>69.1</td>\n",
       "      <td>6.6</td>\n",
       "    </tr>\n",
       "    <tr>\n",
       "      <th>3</th>\n",
       "      <td>Mar-18</td>\n",
       "      <td>416,438</td>\n",
       "      <td>3,075,769</td>\n",
       "      <td>61.4</td>\n",
       "      <td>7.4</td>\n",
       "    </tr>\n",
       "    <tr>\n",
       "      <th>4</th>\n",
       "      <td>Mar-19</td>\n",
       "      <td>375,833</td>\n",
       "      <td>3,043,285</td>\n",
       "      <td>55.4</td>\n",
       "      <td>8.1</td>\n",
       "    </tr>\n",
       "    <tr>\n",
       "      <th>...</th>\n",
       "      <td>...</td>\n",
       "      <td>...</td>\n",
       "      <td>...</td>\n",
       "      <td>...</td>\n",
       "      <td>...</td>\n",
       "    </tr>\n",
       "    <tr>\n",
       "      <th>62</th>\n",
       "      <td>NaN</td>\n",
       "      <td>NaN</td>\n",
       "      <td>NaN</td>\n",
       "      <td>NaN</td>\n",
       "      <td>NaN</td>\n",
       "    </tr>\n",
       "    <tr>\n",
       "      <th>63</th>\n",
       "      <td>NaN</td>\n",
       "      <td>NaN</td>\n",
       "      <td>NaN</td>\n",
       "      <td>NaN</td>\n",
       "      <td>NaN</td>\n",
       "    </tr>\n",
       "    <tr>\n",
       "      <th>64</th>\n",
       "      <td>NaN</td>\n",
       "      <td>NaN</td>\n",
       "      <td>NaN</td>\n",
       "      <td>NaN</td>\n",
       "      <td>NaN</td>\n",
       "    </tr>\n",
       "    <tr>\n",
       "      <th>65</th>\n",
       "      <td>NaN</td>\n",
       "      <td>NaN</td>\n",
       "      <td>NaN</td>\n",
       "      <td>NaN</td>\n",
       "      <td>NaN</td>\n",
       "    </tr>\n",
       "    <tr>\n",
       "      <th>66</th>\n",
       "      <td>NaN</td>\n",
       "      <td>NaN</td>\n",
       "      <td>NaN</td>\n",
       "      <td>NaN</td>\n",
       "      <td>NaN</td>\n",
       "    </tr>\n",
       "  </tbody>\n",
       "</table>\n",
       "<p>67 rows × 5 columns</p>\n",
       "</div>"
      ],
      "text/plain": [
       "   Year Ended Surviving Establishments Total Employment of Survivors  \\\n",
       "0      Mar-15                  677,876                     3,011,469   \n",
       "1      Mar-16                  539,701                     3,073,279   \n",
       "2      Mar-17                  468,293                     3,081,916   \n",
       "3      Mar-18                  416,438                     3,075,769   \n",
       "4      Mar-19                  375,833                     3,043,285   \n",
       "..        ...                      ...                           ...   \n",
       "62        NaN                      NaN                           NaN   \n",
       "63        NaN                      NaN                           NaN   \n",
       "64        NaN                      NaN                           NaN   \n",
       "65        NaN                      NaN                           NaN   \n",
       "66        NaN                      NaN                           NaN   \n",
       "\n",
       "    Survival Rates Since Birth (%)  Labor Force Participation Rate (%)  \n",
       "0                            100.0                                 4.4  \n",
       "1                             79.6                                 5.7  \n",
       "2                             69.1                                 6.6  \n",
       "3                             61.4                                 7.4  \n",
       "4                             55.4                                 8.1  \n",
       "..                             ...                                 ...  \n",
       "62                             NaN                                 NaN  \n",
       "63                             NaN                                 NaN  \n",
       "64                             NaN                                 NaN  \n",
       "65                             NaN                                 NaN  \n",
       "66                             NaN                                 NaN  \n",
       "\n",
       "[67 rows x 5 columns]"
      ]
     },
     "execution_count": 2,
     "metadata": {},
     "output_type": "execute_result"
    }
   ],
   "source": [
    "startups = (pd.read_csv('Startup Data/startup.csv'))\n",
    "startups "
   ]
  },
  {
   "cell_type": "code",
   "execution_count": 3,
   "id": "424e2ca4-f30e-468a-95e9-903c55d0fae0",
   "metadata": {},
   "outputs": [],
   "source": [
    "selected_columns = ['Year Ended', 'Surviving Establishments']\n",
    "startups_numbers  = startups[selected_columns]\n",
    "startups_numbers.to_csv('Startup Data/startup_numbers.csv', index=False)"
   ]
  },
  {
   "cell_type": "code",
   "execution_count": null,
   "id": "67c0f4e4-4305-469b-993d-b3c2e411854a",
   "metadata": {},
   "outputs": [],
   "source": [
    "wfh = (pd.read_csv('WFH_DATA'))\n",
    "wfh"
   ]
  },
  {
   "cell_type": "code",
   "execution_count": null,
   "id": "4d25884e-8f16-4cac-971f-7e41f7e33e51",
   "metadata": {},
   "outputs": [],
   "source": [
    "wfh_startups = lambda how: pd.merge(left=wfh,\n",
    "                                   right=startups,\n",
    "                                   on=['fyear'],\n",
    "                                   how=how,indicator=True,validate=\"one_to_one\")"
   ]
  },
  {
   "cell_type": "code",
   "execution_count": null,
   "id": "01cfb260-ce53-45e0-97a4-35d5a57a96f0",
   "metadata": {},
   "outputs": [],
   "source": [
    "# Run OLS\n",
    "m1 = sm_ols('wfh% ~ startups#', data=wfh_startups).fit()\n",
    "m2 = sm_ols('wfh% ~ log_startups#', data=wfh_startups).fit()\n",
    "m3 = sm_ols('log_wfh% ~ startups#', data=wfh_startups).fit()\n",
    "\n",
    "# Print out multiple regression results at once\n",
    "table = summary_col(results=[m1,m2,m3],\n",
    "                    float_format='%0.2f',\n",
    "                    stars = True,\n",
    "                    model_names=['m1','m2','m3'],\n",
    "                    info_dict=info_dict)\n",
    "\n",
    "print(table)\n"
   ]
  },
  {
   "cell_type": "code",
   "execution_count": null,
   "id": "b0222a24-e085-4482-b894-c647d1f7d07f",
   "metadata": {},
   "outputs": [],
   "source": [
    "lineplot1 = sns.lineplot(data = wfh_startups,\n",
    "             x='wfh%',y='startups',hue='high_leverage') #style='gsector'"
   ]
  },
  {
   "cell_type": "code",
   "execution_count": null,
   "id": "39da8429-9c55-40ad-abd0-19d17520339d",
   "metadata": {},
   "outputs": [],
   "source": [
    "lineplot2 = sns.lineplot(data = wfh_startups,\n",
    "             x='wfh%',y='log_startups',hue='high_leverage') #style='gsector'"
   ]
  },
  {
   "cell_type": "code",
   "execution_count": null,
   "id": "82c7db1a-45e8-4017-9742-310a4770f6b7",
   "metadata": {},
   "outputs": [],
   "source": [
    "lineplot3 = sns.lineplot(data = wfh_startups,\n",
    "             x='log_wfh%',y='startups',hue='high_leverage') #style='gsector'"
   ]
  },
  {
   "cell_type": "code",
   "execution_count": null,
   "id": "30ada9bd-4f9e-4973-8353-1da53e7f47f6",
   "metadata": {},
   "outputs": [],
   "source": []
  }
 ],
 "metadata": {
  "kernelspec": {
   "display_name": "Python 3 (ipykernel)",
   "language": "python",
   "name": "python3"
  },
  "language_info": {
   "codemirror_mode": {
    "name": "ipython",
    "version": 3
   },
   "file_extension": ".py",
   "mimetype": "text/x-python",
   "name": "python",
   "nbconvert_exporter": "python",
   "pygments_lexer": "ipython3",
   "version": "3.11.5"
  }
 },
 "nbformat": 4,
 "nbformat_minor": 5
}
