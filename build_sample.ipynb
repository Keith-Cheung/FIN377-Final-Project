{
 "cells": [
  {
   "cell_type": "code",
   "execution_count": null,
   "id": "0763204a-cdcc-4001-a95c-3216532dc595",
   "metadata": {},
   "outputs": [],
   "source": [
    "import pandas as pd\n",
    "import numpy as np\n",
    "from statsmodels.formula.api import ols as sm_ols\n",
    "from statsmodels.iolib.summary2 import summary_col"
   ]
  },
  {
   "cell_type": "code",
   "execution_count": null,
   "id": "60ed3aca-9f7e-4e68-a424-6dae71371a73",
   "metadata": {},
   "outputs": [],
   "source": [
    "# load the data for startups\n",
    "startups = (pd.read_csv('Startup Data/startup_raw.csv'))\n",
    "startups "
   ]
  },
  {
   "cell_type": "code",
   "execution_count": null,
   "id": "52032f2c-ac6f-4e18-91ac-d450f93e5269",
   "metadata": {
    "tags": []
   },
   "outputs": [],
   "source": [
    "# filter to include only the years that have a 100% survival rate to show how many startups were made that year\n",
    "startups_started = startups[startups['Survival Rates Since Birth (%)'] == 100]\n",
    "\n",
    "# making the year column an integer for merge\n",
    "startups_started = startups_started.rename(columns={'Year Ended' : 'year'})\n",
    "startups_started = startups_started.rename(columns={'Surviving Establishments' : 'Surviving_Establishments'})\n",
    "                                                          \n",
    "startups_started"
   ]
  },
  {
   "cell_type": "code",
   "execution_count": null,
   "id": "424e2ca4-f30e-468a-95e9-903c55d0fae0",
   "metadata": {},
   "outputs": [],
   "source": [
    "# Filtering the startups to only have the year and number of establishments\n",
    "\n",
    "selected_columns = ['year', 'Surviving_Establishments']\n",
    "startups_numbers  = startups_started[selected_columns]\n",
    "startups_numbers.to_csv('Startup Data/startup_numbers.csv', index=False)"
   ]
  },
  {
   "cell_type": "code",
   "execution_count": null,
   "id": "67c0f4e4-4305-469b-993d-b3c2e411854a",
   "metadata": {},
   "outputs": [],
   "source": [
    "# Load work from home dataset\n",
    "\n",
    "WFH_Data = pd.read_csv('Work From Home Data/WFH 1965-present.csv')\n",
    "#WFH_Data.head(50)\n",
    "WFH_Data = WFH_Data.drop(columns = ['License', 'Citation'])"
   ]
  },
  {
   "cell_type": "code",
   "execution_count": null,
   "id": "fd051212-706d-4d27-b5e2-340305570a0e",
   "metadata": {
    "tags": []
   },
   "outputs": [],
   "source": [
    "# converting the year into a format that can be merged on\n",
    "WFH_Data['date'] = pd.to_datetime(WFH_Data['date'])\n",
    "WFH_Data['year'] = WFH_Data['date'].dt.strftime('%Y')\n",
    "WFH_Data.tail(55)"
   ]
  },
  {
   "cell_type": "code",
   "execution_count": null,
   "id": "fba273a6-8280-4471-88da-91ab1415a4ce",
   "metadata": {},
   "outputs": [],
   "source": [
    "# only need years 2015 onward\n",
    "filtered_WFH = WFH_Data.iloc[18:23]\n",
    "filtered_WFH"
   ]
  },
  {
   "cell_type": "code",
   "execution_count": null,
   "id": "57eca437-8e54-422b-9c79-5ff00eaead58",
   "metadata": {},
   "outputs": [],
   "source": [
    "WFH_Data.loc[len(WFH_Data.index)] = ['NaN', \"%.1f\"%WFH_Data.loc[WFH_Data['year']=='2020', 'WFH_share'].mean(), 'NaN', 'NaN', 'NaN', 'NaN', 2020 ] \n",
    "WFH_Data.loc[len(WFH_Data.index)] = ['NaN', \"%.1f\"%WFH_Data.loc[WFH_Data['year']=='2021', 'WFH_share'].mean(), 'NaN', 'NaN', 'NaN', 'NaN', 2021 ] \n",
    "WFH_Data.loc[len(WFH_Data.index)] = ['NaN', \"%.1f\"%WFH_Data.loc[WFH_Data['year']=='2022', 'WFH_share'].mean(), 'NaN', 'NaN', 'NaN', 'NaN', 2022 ] \n",
    "WFH_Data.loc[len(WFH_Data.index)] = ['NaN', \"%.1f\"%WFH_Data.loc[WFH_Data['year']=='2023', 'WFH_share'].mean(), 'NaN', 'NaN', 'NaN', 'NaN', 2023 ] \n",
    "WFH_Data.loc[len(WFH_Data.index)] = ['NaN', \"%.1f\"%WFH_Data.loc[WFH_Data['year']=='2024', 'WFH_share'].mean(), 'NaN', 'NaN', 'NaN', 'NaN', 2024 ] \n",
    "WFH_Data"
   ]
  },
  {
   "cell_type": "code",
   "execution_count": null,
   "id": "591e296c-8406-4329-8e17-9b41e94efcfe",
   "metadata": {},
   "outputs": [],
   "source": [
    "WFH_Data.tail(10)"
   ]
  },
  {
   "cell_type": "code",
   "execution_count": null,
   "id": "d60b8402-b9f5-4988-a284-ccb3d3a23b6a",
   "metadata": {},
   "outputs": [],
   "source": [
    "filtered_WFH = filtered_WFH.reset_index()"
   ]
  },
  {
   "cell_type": "code",
   "execution_count": null,
   "id": "3e7e4402-6f00-406b-895c-d7154a6fa329",
   "metadata": {},
   "outputs": [],
   "source": [
    "filtered_WFH = pd.concat([filtered_WFH, WFH_Data.loc[WFH_Data['year'] == 2020]])\n",
    "filtered_WFH = pd.concat([filtered_WFH, WFH_Data.loc[WFH_Data['year'] == 2021]])\n",
    "filtered_WFH = pd.concat([filtered_WFH, WFH_Data.loc[WFH_Data['year'] == 2022]])\n",
    "filtered_WFH = pd.concat([filtered_WFH, WFH_Data.loc[WFH_Data['year'] == 2023]])\n",
    "# filtered_WFH = pd.concat([filtered_WFH, WFH_Data.loc[WFH_Data['year'] == 2024]])\n",
    "filtered_WFH = filtered_WFH.drop_duplicates()\n",
    "filtered_WFH"
   ]
  },
  {
   "cell_type": "code",
   "execution_count": null,
   "id": "0acaf878-7c0f-443f-aa9c-75c3ee8baf4e",
   "metadata": {
    "tags": []
   },
   "outputs": [],
   "source": [
    "filtered_WFH['year'].astype"
   ]
  },
  {
   "cell_type": "code",
   "execution_count": null,
   "id": "10659d45-b1d6-45c9-bcb0-81d887dc90fb",
   "metadata": {},
   "outputs": [],
   "source": [
    "filtered_WFH.to_csv('Work From Home Data/cleaned_WFH.csv',index=False)"
   ]
  },
  {
   "cell_type": "code",
   "execution_count": null,
   "id": "4d25884e-8f16-4cac-971f-7e41f7e33e51",
   "metadata": {},
   "outputs": [],
   "source": [
    "# Merge our Datasets\n",
    "\n",
    "wfh_startups = pd.merge(filtered_WFH,\n",
    "                        startups_numbers,\n",
    "                        on = ['year'],\n",
    "                        how = 'left',\n",
    "                        validate = '1:1')\n",
    "wfh_startups"
   ]
  },
  {
   "cell_type": "code",
   "execution_count": null,
   "id": "a869db6e-74f8-4ed7-a49e-ff515203e4c7",
   "metadata": {
    "tags": []
   },
   "outputs": [],
   "source": [
    "import statsmodels.api as sm\n",
    "from statsmodels.iolib.summary2 import summary_col  # Importing summary_col function\n",
    "# regression model to show the relationship between the WFH share of the workforce and the number of startups created\n",
    "# Run OLS\n",
    "m1 = sm.OLS.from_formula('Surviving_Establishments ~ WFH_share', data=wfh_startups).fit()\n",
    "m2 = sm.OLS.from_formula('Surviving_Establishments ~ np.log(WFH_share)', data=wfh_startups).fit()  # Use np.log for log transformation\n",
    "m3 = sm.OLS.from_formula('np.log(Surviving_Establishments) ~ WFH_share', data=wfh_startups).fit()  # Log transform dependent variable\n",
    "\n",
    "# Print out multiple regression results at once\n",
    "table = summary_col(results=[m1, m2, m3],\n",
    "                    float_format='%0.2f',\n",
    "                    stars=True,\n",
    "                    model_names=['m1', 'm2', 'm3'],\n",
    "                    info_dict=None)  # You can pass additional information here if needed\n",
    "\n",
    "print(table)\n"
   ]
  },
  {
   "cell_type": "code",
   "execution_count": null,
   "id": "01cfb260-ce53-45e0-97a4-35d5a57a96f0",
   "metadata": {},
   "outputs": [],
   "source": [
    "# Run OLS\n",
    "m1 = sm_ols('wfh% ~ startups#', data=wfh_startups).fit()\n",
    "m2 = sm_ols('wfh% ~ log_startups#', data=wfh_startups).fit()\n",
    "m3 = sm_ols('log_wfh% ~ startups#', data=wfh_startups).fit()\n",
    "\n",
    "# Print out multiple regression results at once\n",
    "table = summary_col(results=[m1,m2,m3],\n",
    "                    float_format='%0.2f',\n",
    "                    stars = True,\n",
    "                    model_names=['m1','m2','m3'],\n",
    "                    info_dict=info_dict)\n",
    "\n",
    "print(table)\n"
   ]
  },
  {
   "cell_type": "code",
   "execution_count": null,
   "id": "b0222a24-e085-4482-b894-c647d1f7d07f",
   "metadata": {},
   "outputs": [],
   "source": [
    "lineplot1 = sns.lineplot(data = wfh_startups,\n",
    "             x='wfh%',y='startups',hue='high_leverage') #style='gsector'"
   ]
  },
  {
   "cell_type": "code",
   "execution_count": null,
   "id": "39da8429-9c55-40ad-abd0-19d17520339d",
   "metadata": {},
   "outputs": [],
   "source": [
    "lineplot2 = sns.lineplot(data = wfh_startups,\n",
    "             x='wfh%',y='log_startups',hue='high_leverage') #style='gsector'"
   ]
  },
  {
   "cell_type": "code",
   "execution_count": null,
   "id": "82c7db1a-45e8-4017-9742-310a4770f6b7",
   "metadata": {},
   "outputs": [],
   "source": [
    "lineplot3 = sns.lineplot(data = wfh_startups,\n",
    "             x='log_wfh%',y='startups',hue='high_leverage') #style='gsector'"
   ]
  },
  {
   "cell_type": "code",
   "execution_count": null,
   "id": "30ada9bd-4f9e-4973-8353-1da53e7f47f6",
   "metadata": {},
   "outputs": [],
   "source": []
  }
 ],
 "metadata": {
  "kernelspec": {
   "display_name": "Python 3 (ipykernel)",
   "language": "python",
   "name": "python3"
  },
  "language_info": {
   "codemirror_mode": {
    "name": "ipython",
    "version": 3
   },
   "file_extension": ".py",
   "mimetype": "text/x-python",
   "name": "python",
   "nbconvert_exporter": "python",
   "pygments_lexer": "ipython3",
   "version": "3.11.5"
  }
 },
 "nbformat": 4,
 "nbformat_minor": 5
}
