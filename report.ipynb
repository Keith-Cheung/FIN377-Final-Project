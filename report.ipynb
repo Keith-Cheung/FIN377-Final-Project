{
 "cells": [
  {
   "cell_type": "markdown",
   "metadata": {},
   "source": [
    "# Work From Home and Startup Development\n",
    "## Summary\n",
    "The goal of this project is to analyze how the recent shift in work from home (WFH) during and after the pandemic influences the quantity of startups developed. Our hypothesis is that we believe there will be a strong correlation between the increase of WFH since 2015 and the amount of startups that have been created. With an increase in WFH flexibility, more people are starting their own businesses. Our objective is to find a relationship that shows a correlation between WFH and the amount of startups created."
   ]
  },
  {
   "cell_type": "markdown",
   "metadata": {},
   "source": [
    "## Motivation\n"
   ]
  },
  {
   "cell_type": "markdown",
   "metadata": {},
   "source": []
  }
 ],
 "metadata": {
  "language_info": {
   "name": "python"
  }
 },
 "nbformat": 4,
 "nbformat_minor": 2
}
