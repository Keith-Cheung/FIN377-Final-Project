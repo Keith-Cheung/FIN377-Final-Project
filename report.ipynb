{
 "cells": [
  {
   "cell_type": "markdown",
   "metadata": {},
   "source": [
    "# We Have Startups at Home - FIN 377 Final Report\n",
    "By Keith Cheung, Danny Hubert, and Josh Simon"
   ]
  },
  {
   "cell_type": "markdown",
   "metadata": {},
   "source": [
    "## Summary\n",
    "The \"We Have Startups at Home\" project aims to explore the relationship between remote work trends and the proliferation of startups. With the rise of remote work culture, especially accelerated by the COVID-19 pandemic, there is a growing interest in understanding how this trend intersects with entrepreneurial activities, particularly in the realm of startups. This report presents the findings of a regression analysis conducted to investigate the potential impact of remote work on startup creation and growth. We are conducting this analysis using work from home data from \"WFHResearch.com\" as well as startup data from the Bureau of Labor Statistics.\n",
    "\n",
    "The inspiration for our final project originates from the impact of the COVID-19 pandemic. We want to analyze how the recent shift in work from home (WFH) during and after the pandemic influences the quantity of startups developed. We plan on using prior work on WFH, employee attitude towards WFH, and various lists of startups to help us understand the relationship between the shift in WFH and the quantity of startups created. First, we need to assess the startups on a macro scale. Generally, we are asking the following questions: \n",
    "\n",
    "1. What drives the creation of startups?\n",
    "2. Has there been a significant increase in WFH since 2019?"
   ]
  },
  {
   "cell_type": "markdown",
   "metadata": {},
   "source": [
    "## Hypothesis\n",
    "Our hypothesis is that we believe that there will be a strong correlation between the increase of WFH since 2015 and the amount of startups that have been created. With an increase in WFH flexibility, more people are starting their own businesses. Our goal is to find a relationship that shows a correlation between WFH and the amount of startups created. \n"
   ]
  },
  {
   "cell_type": "markdown",
   "metadata": {},
   "source": [
    "## Methodology\n",
    "\n",
    "Data Collection: We gathered data on remote work trends and startup creation rates over the past decade. In addition to this, we ensured data quality and reliability through rigorous data updating to ensure we were able to find a  unit of observation, which became \"year\" in our final results.\n",
    "\n",
    "Regression Analysis: We conducted a  regression analysis to assess the relationship between remote work and startup creation and utilized appropriate statistical techniques to control for confounding variables. We used Python and Jupyter Lab for all data analysis and visualizations below.\n",
    "\n",
    "We had to merge multiple datasets and use information on variables that would useful for identifying the relationship for WFH and startups. We also kept subfolders to keep WFH data and startup data separate during the data cleaning process. We downloaded the raw data and performed eda techniques to identify outliers, missing data, or other unusual data and errors. Then we combined and merged all the data into one dataframe that we used to run regressions and create visualizations. We included multiple visualizations to give us more context to our answers about WFH and the amount of startups created. We are going to use regression across the sample time frame to see if there is a relationship between our variables. \n",
    "\n",
    "ADD CODE AND ACTUAL INFO HERE, THIS IS JUST A DRAFT, NOT SURE HOW SIMILAR IT IS TO OUR PROPOSAL STUFF"
   ]
  },
  {
   "cell_type": "markdown",
   "metadata": {},
   "source": [
    "## Figures\n",
    "\n",
    "ADD STUFF HERE WHEN DONE"
   ]
  },
  {
   "cell_type": "markdown",
   "metadata": {},
   "source": [
    "## Interpretation/Discussion\n",
    "\n",
    "ADD STUFF HERE WHEN DONE"
   ]
  },
  {
   "cell_type": "markdown",
   "metadata": {},
   "source": [
    "## Additional Notes & Caveats\n",
    "\n",
    "ADD STUFF HERE WHEN DONE (not sure if we'll have many additional notes, can also turn this section into reflections based on things we found along the way)"
   ]
  },
  {
   "cell_type": "markdown",
   "metadata": {},
   "source": [
    "## Conclusion\n",
    "In conclusion, the findings of this analysis suggest that the rise of remote work is intertwined with the proliferation of startups, signaling a fundamental shift in the entrepreneurial landscape. As remote work continues to reshape the way we work and interact, it presents both opportunities and challenges for aspiring entrepreneurs and established businesses alike. Understanding and adapting to these dynamics will be crucial for fostering innovation and economic growth in the digital age.\n",
    "\n",
    "If we were to expand this research project, we would look into the following areas:\n",
    "1. Qualitative Research: Conduct interviews or surveys with remote workers and startup founders to gain qualitative insights into their experiences, challenges, and perceptions regarding the relationship between remote work and startup creation. This qualitative data can provide a richer understanding of the mechanisms driving this phenomenon.\n",
    "2. Geographical Analysis: Explore how the relationship between remote work and startups varies across regions outside the ones we studied here. Investigate whether certain locations, such as urban centers or tech hubs, exhibit stronger correlations between remote work adoption and entrepreneurial activity.\n",
    "3. Impact of Remote Work Policies: Analyze the impact of specific remote work policies and initiatives implemented by governments or organizations on startup formation and growth. Evaluate how factors like tax incentives, infrastructure investments, and regulatory frameworks influence entrepreneurial ecosystems in the context of remote work.\n",
    "4. Longitudinal Studies: Conduct longitudinal studies to track changes in remote work patterns and startup dynamics over time (which would need to be done 10-15 years down the line). Analyze how these trends evolve in response to macroeconomic conditions, technological advancements, and societal shifts, providing insights into the long-term sustainability of remote work-driven entrepreneurship.\n",
    "5. Cross-Cultural Comparison: Compare the relationship between remote work and startups across different cultural contexts and national settings. Investigate how cultural norms, values, and attitudes towards entrepreneurship and remote work shape the entrepreneurial landscape in diverse societies."
   ]
  },
  {
   "cell_type": "markdown",
   "metadata": {},
   "source": [
    "## Source Code"
   ]
  },
  {
   "cell_type": "markdown",
   "metadata": {},
   "source": [
    "WFH since 1965 data:\n",
    "\n",
    "EXCEL FILE PATH HERE OR A LINK TO WFH WEBSITE???"
   ]
  },
  {
   "cell_type": "markdown",
   "metadata": {},
   "source": [
    "Startup development: https://www.bls.gov/bdm/us_age_naics_00_table7.txt"
   ]
  }
 ],
 "metadata": {
  "kernelspec": {
   "display_name": "Python 3 (ipykernel)",
   "language": "python",
   "name": "python3"
  },
  "language_info": {
   "codemirror_mode": {
    "name": "ipython",
    "version": 3
   },
   "file_extension": ".py",
   "mimetype": "text/x-python",
   "name": "python",
   "nbconvert_exporter": "python",
   "pygments_lexer": "ipython3",
   "version": "3.11.5"
  }
 },
 "nbformat": 4,
 "nbformat_minor": 4
}
