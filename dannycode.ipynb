{
 "cells": [
  {
   "cell_type": "code",
   "execution_count": null,
   "id": "7fb7451d-16bd-485c-acfc-4abfd8028adb",
   "metadata": {},
   "outputs": [],
   "source": [
    "# Load datasets into a pandas DataFrame"
   ]
  },
  {
   "cell_type": "code",
   "execution_count": null,
   "id": "86acd5f1-b69e-46b7-89b1-987ea3c12b1b",
   "metadata": {},
   "outputs": [],
   "source": [
    "import pandas as pd\n",
    "import statsmodels.api as sm\n",
    "\n",
    "# Load Datasets\n",
    "data1 = pd.read_csv('_______.csv')\n",
    "# https://www.kaggle.com/datasets/mohamedelzeini/the-impacts-of-working-remotely-and-in-an-office/data\n",
    "data2 = pd.read_csv('_______.csv')\n",
    "# https://www.statista.com/topics/6565/work-from-home-and-remote-work/\n",
    "data3 = pd.read_csv('_______.csv')\n",
    "# https://www.statista.com/topics/4733/startups-worldwide/#topicOverview\n",
    "data4 = pd.read_csv('_______.csv')\n",
    "# https://www.kaggle.com/code/takkimsncn/us-startups-over-time-analysis/notebook\n",
    "data5 = pd.read_csv('_______.csv')\n",
    "# https://www.kaggle.com/datasets/nsfranck/y-combinator-startup-list\n"
   ]
  },
  {
   "cell_type": "code",
   "execution_count": null,
   "id": "d8b9f35f-009c-4791-95f5-8592d240a84d",
   "metadata": {},
   "outputs": [],
   "source": [
    "# Display data to ensure viability"
   ]
  },
  {
   "cell_type": "code",
   "execution_count": null,
   "id": "1c56dfb2-96b6-49a7-bebd-ea502d76dedf",
   "metadata": {},
   "outputs": [],
   "source": [
    "print(data1.summary())"
   ]
  },
  {
   "cell_type": "code",
   "execution_count": null,
   "id": "2b5c575f-4475-485b-bd9d-2444265b1ea8",
   "metadata": {},
   "outputs": [],
   "source": [
    "print(data2.summary())"
   ]
  },
  {
   "cell_type": "code",
   "execution_count": null,
   "id": "b500adcb-ef5d-4a1d-b952-3cb9b2d0ace3",
   "metadata": {},
   "outputs": [],
   "source": [
    "print(data3.summary())"
   ]
  },
  {
   "cell_type": "code",
   "execution_count": null,
   "id": "f0c5e865-6591-4b06-b5e3-4b59e78ff7ae",
   "metadata": {},
   "outputs": [],
   "source": [
    "print(data4.summary())"
   ]
  },
  {
   "cell_type": "code",
   "execution_count": null,
   "id": "a7f602e1-52f9-4226-a53e-1873c7e76ec3",
   "metadata": {},
   "outputs": [],
   "source": [
    "print(data5.summary())"
   ]
  },
  {
   "cell_type": "code",
   "execution_count": null,
   "id": "a65ac76f-762c-4c59-8388-62d9f1a2d8c8",
   "metadata": {},
   "outputs": [],
   "source": [
    "# Regression scratch code"
   ]
  },
  {
   "cell_type": "code",
   "execution_count": null,
   "id": "bd4c3a1d-b415-46b3-b68e-1057f55d1162",
   "metadata": {},
   "outputs": [],
   "source": [
    "m1 = sm_ols('WFH ~ Number of Startups  ', data=______).fit()"
   ]
  },
  {
   "cell_type": "code",
   "execution_count": null,
   "id": "1c6205fe-d950-4cda-8ccd-5083761b2589",
   "metadata": {},
   "outputs": [],
   "source": [
    "m2 = sm_ols('WFH% ~ Number of Startups  ', data=______).fit()"
   ]
  },
  {
   "cell_type": "code",
   "execution_count": null,
   "id": "0a5ca32c-644f-4c4f-ab34-9cab55fbcf61",
   "metadata": {},
   "outputs": [],
   "source": [
    "m3 = sm_ols('WFH ~ Log of Number of Startups  ', data=______).fit()"
   ]
  },
  {
   "cell_type": "code",
   "execution_count": null,
   "id": "08dab18a-200f-44f9-8d57-5428f332a930",
   "metadata": {},
   "outputs": [],
   "source": [
    "m4 = sm_ols('Log of WFH ~ Number of Startups  ', data=______).fit()"
   ]
  },
  {
   "cell_type": "code",
   "execution_count": null,
   "id": "7e501d1d-d65c-47ac-901e-4fd0aaf95933",
   "metadata": {},
   "outputs": [],
   "source": [
    "m5 = sm_ols('WFH Sentiment ~ Number of Startups  ', data=______).fit()"
   ]
  },
  {
   "cell_type": "code",
   "execution_count": null,
   "id": "d920e392-7e35-48ec-9510-b8a29757dcb8",
   "metadata": {},
   "outputs": [],
   "source": [
    "m6 = sm_ols('WFH% Sentiment ~ Number of Startups  ', data=______).fit()"
   ]
  },
  {
   "cell_type": "code",
   "execution_count": null,
   "id": "bf8da082-ff1e-40fd-899e-c7836e7fa06c",
   "metadata": {},
   "outputs": [],
   "source": [
    "m7 = sm_ols('Log of WFH Sentiment ~ Number of Startups  ', data=______).fit()"
   ]
  },
  {
   "cell_type": "code",
   "execution_count": null,
   "id": "c93e4b39-cce5-41d9-8599-74cd6c46e314",
   "metadata": {},
   "outputs": [],
   "source": [
    "m8 = sm_ols('WF% Sentiment ~ Log of Number of Startups  ', data=______).fit()"
   ]
  },
  {
   "cell_type": "code",
   "execution_count": null,
   "id": "cadd5a4a-cdb9-4cbd-aa24-ca677f9582ee",
   "metadata": {},
   "outputs": [],
   "source": [
    "# m9: Model 1 suggestion from Prof. Bowen (sm.graphics.plot_partregress)"
   ]
  },
  {
   "cell_type": "code",
   "execution_count": null,
   "id": "054bc69c-efe2-492f-b0ea-60e34fe0f3a3",
   "metadata": {},
   "outputs": [],
   "source": [
    "# m10: Model 2 suggestion from Prof. Bowen (BinsReg)"
   ]
  },
  {
   "cell_type": "code",
   "execution_count": null,
   "id": "76172684-ed50-4a22-9cd4-dc3151083fee",
   "metadata": {},
   "outputs": [],
   "source": [
    "# Create other models to show regression results in charts/graphs, this will be biggest part of the report"
   ]
  },
  {
   "cell_type": "code",
   "execution_count": null,
   "id": "f3763a69-4572-48ab-a443-a6b0af516ad1",
   "metadata": {},
   "outputs": [],
   "source": [
    "# Print the summary of the regression model\n",
    "print(m1.summary())"
   ]
  },
  {
   "cell_type": "code",
   "execution_count": null,
   "id": "7dc1db60-4535-49f1-906c-14dce73efa79",
   "metadata": {},
   "outputs": [],
   "source": []
  },
  {
   "cell_type": "code",
   "execution_count": null,
   "id": "89eaf818-b9e1-4196-8610-c1a3d6db89f2",
   "metadata": {},
   "outputs": [],
   "source": []
  },
  {
   "cell_type": "code",
   "execution_count": null,
   "id": "18e9e3cc-d16b-49cc-89ea-802b51798373",
   "metadata": {},
   "outputs": [],
   "source": []
  },
  {
   "cell_type": "code",
   "execution_count": null,
   "id": "7b00fb94-dd06-4f95-90f1-9a83f9467bef",
   "metadata": {},
   "outputs": [],
   "source": []
  },
  {
   "cell_type": "code",
   "execution_count": null,
   "id": "670cd0de-1717-4411-b2a7-86eb3dcb5cd2",
   "metadata": {},
   "outputs": [],
   "source": []
  },
  {
   "cell_type": "code",
   "execution_count": null,
   "id": "a3f43bcf-2a5c-4ae6-ae88-7c4244a932db",
   "metadata": {},
   "outputs": [],
   "source": []
  },
  {
   "cell_type": "code",
   "execution_count": null,
   "id": "b7736994-5155-40e8-92ef-247a23947f5a",
   "metadata": {},
   "outputs": [],
   "source": []
  },
  {
   "cell_type": "code",
   "execution_count": null,
   "id": "9e4280ad-339d-4305-984f-4e416b9c8075",
   "metadata": {},
   "outputs": [],
   "source": []
  },
  {
   "cell_type": "code",
   "execution_count": null,
   "id": "b8e53ae3-355e-4e9b-8e80-d6b69185ca07",
   "metadata": {},
   "outputs": [],
   "source": []
  },
  {
   "cell_type": "code",
   "execution_count": null,
   "id": "1afcba45-c374-40c1-acef-31931c8c9566",
   "metadata": {},
   "outputs": [],
   "source": [
    "# Code from professor"
   ]
  },
  {
   "cell_type": "markdown",
   "id": "bc6f6701-28af-4723-9bfd-39711bf5c3f8",
   "metadata": {},
   "source": [
    "For plotting your regression results, statsmodels has some built in plotting functions. sm.graphics.plot_partregress will plot how y is related to a single x variable, even if you have other X variables. In the below, the plot is showing for the regression murder ~ hs_grad + urban + poverty + single:\n"
   ]
  },
  {
   "cell_type": "code",
   "execution_count": null,
   "id": "4cb18491-7cf9-4548-b2c7-7aa431622c1d",
   "metadata": {},
   "outputs": [],
   "source": [
    "import statsmodels.api as sm\n",
    "import matplotlib.pyplot as plt\n",
    "crime_data = sm.datasets.statecrime.load_pandas()\n",
    "# if the dataset has too many dots, sample or use alpha\n",
    "sm.graphics.plot_partregress(endog='murder', exog_i='hs_grad',\n",
    "                             exog_others=['urban', 'poverty', 'single'],\n",
    "                             data=crime_data.data, obs_labels=False)\n",
    "plt.show()"
   ]
  },
  {
   "cell_type": "markdown",
   "id": "6ac1f540-fb1e-43d0-8cd5-f6c0984208b6",
   "metadata": {},
   "source": [
    "If your dataset is huge, the other method for plotting is binsreg. It's a very smart way to visualize regressions, and a recent AER (a top econ journal) has a paper on it\n",
    "\n",
    "The code for it, you'll need to install plotnine and binsreg and download the attached CSV:"
   ]
  },
  {
   "cell_type": "code",
   "execution_count": null,
   "id": "155e12de-3425-4f0d-89f6-d4debc119d73",
   "metadata": {},
   "outputs": [],
   "source": [
    "################################################################################\n",
    "# Binsreg: illustration file for plot\n",
    "# Authors: M. D. Cattaneo, R. Crump, M. Farrell, Y. Feng and Ricardo Masini\n",
    "# Last update: March  17, 2023\n",
    "################################################################################\n",
    "\n",
    "import pandas as pd\n",
    "import statsmodels.formula.api as smf\n",
    "from plotnine import *\n",
    "from binsreg import *\n",
    "\n",
    "\n",
    "######################################\n",
    "###### Read the same data #############\n",
    "####### used for STATA ################\n",
    "#######################################\n",
    "\n",
    "data = pd.read_csv(\"binsreg_sim.csv\")\n",
    "data.describe().T\n",
    "\n",
    "\n",
    "########################################################\n",
    "###### EXTERNAL PLOT USING BINSREG OUTPUT ##############\n",
    "########################################################\n",
    "\n",
    "# Run binsreg (w is all the other variables you want in the regression)\n",
    "est = binsreg('y', 'x', 'w', data=data,line = (3,3), ci=(3,3), cb=(3,3), polyreg=4)\n",
    "\n",
    "# Extract the plotting information\n",
    "result = est.data_plot[0]\n",
    "\n",
    "# Create the figure to plot\n",
    "fig = ggplot() + labs(x='X',y ='Y')\n",
    "\n",
    "# Add the dots\n",
    "fig += geom_point(data=result.dots, mapping=aes(x='x', y='fit'), color=\"blue\", size=2, shape='o')\n",
    "\n",
    "# Add the line\n",
    "fig += geom_line(data=result.line, mapping=aes(x='x', y='fit'), color=\"blue\", size=0.5)\n",
    "\n",
    "# Add the CI\n",
    "fig += geom_errorbar(data=result.ci, mapping=aes(x='x', ymin='ci_l', ymax='ci_r'), color=\"blue\", size=0.5, width = 0.02, linetype='solid')\n",
    "\n",
    "# Add the CB\n",
    "fig += geom_ribbon(data=result.cb, mapping=aes(x='x', ymin='cb_l', ymax='cb_r'), fill=\"blue\", alpha=0.2)\n",
    "\n",
    "# Add the polyreg\n",
    "fig += geom_line(data=result.poly, mapping=aes(x='x', y='fit'), color=\"red\", size=0.5)\n",
    "\n",
    "# Display the plot\n",
    "print(fig)"
   ]
  },
  {
   "cell_type": "code",
   "execution_count": null,
   "id": "872aa769-3264-41de-8c1e-fd869a268a9d",
   "metadata": {},
   "outputs": [],
   "source": []
  },
  {
   "cell_type": "code",
   "execution_count": null,
   "id": "54d93ddf-5b3c-480e-ab20-f5c18413a43c",
   "metadata": {},
   "outputs": [],
   "source": []
  },
  {
   "cell_type": "code",
   "execution_count": null,
   "id": "18034ff8-dde6-487a-b0ed-99e9053ba320",
   "metadata": {},
   "outputs": [],
   "source": []
  },
  {
   "cell_type": "code",
   "execution_count": null,
   "id": "4edda77a-abcd-46ce-958b-04a46123a86e",
   "metadata": {},
   "outputs": [],
   "source": []
  }
 ],
 "metadata": {
  "kernelspec": {
   "display_name": "Python 3 (ipykernel)",
   "language": "python",
   "name": "python3"
  },
  "language_info": {
   "codemirror_mode": {
    "name": "ipython",
    "version": 3
   },
   "file_extension": ".py",
   "mimetype": "text/x-python",
   "name": "python",
   "nbconvert_exporter": "python",
   "pygments_lexer": "ipython3",
   "version": "3.11.5"
  }
 },
 "nbformat": 4,
 "nbformat_minor": 5
}
