{
 "cells": [
  {
   "cell_type": "markdown",
   "id": "e87db34e-d279-4ea2-90f7-b3238f4541ba",
   "metadata": {},
   "source": [
    "https://www.bls.gov/bdm/us_age_naics_00_table7.txt"
   ]
  },
  {
   "cell_type": "markdown",
   "id": "4a479fc7-0113-4e67-988e-d64101adc1d3",
   "metadata": {},
   "source": [
    "https://wfhresearch.com/"
   ]
  },
  {
   "cell_type": "code",
   "execution_count": null,
   "id": "01cfb260-ce53-45e0-97a4-35d5a57a96f0",
   "metadata": {},
   "outputs": [],
   "source": []
  }
 ],
 "metadata": {
  "kernelspec": {
   "display_name": "Python 3 (ipykernel)",
   "language": "python",
   "name": "python3"
  },
  "language_info": {
   "codemirror_mode": {
    "name": "ipython",
    "version": 3
   },
   "file_extension": ".py",
   "mimetype": "text/x-python",
   "name": "python",
   "nbconvert_exporter": "python",
   "pygments_lexer": "ipython3",
   "version": "3.11.5"
  }
 },
 "nbformat": 4,
 "nbformat_minor": 5
}
