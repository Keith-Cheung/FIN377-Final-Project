{
 "cells": [
  {
   "cell_type": "code",
   "execution_count": null,
   "id": "0763204a-cdcc-4001-a95c-3216532dc595",
   "metadata": {},
   "outputs": [],
   "source": [
    "import pandas as pd\n",
    "import numpy as np\n",
    "from statsmodels.formula.api import ols as sm_ols\n",
    "from statsmodels.iolib.summary2 import summary_col"
   ]
  },
  {
   "cell_type": "code",
   "execution_count": null,
   "id": "67c0f4e4-4305-469b-993d-b3c2e411854a",
   "metadata": {},
   "outputs": [],
   "source": [
    "wfh = (pd.read_csv('WFH_DATA'))\n",
    "startups = (pd.read_csv('STARTUPS_DATA'))"
   ]
  },
  {
   "cell_type": "code",
   "execution_count": null,
   "id": "4d25884e-8f16-4cac-971f-7e41f7e33e51",
   "metadata": {},
   "outputs": [],
   "source": [
    "wfh_startups = lambda how: pd.merge(left=wfh,\n",
    "                                   right=startups,\n",
    "                                   on=['fyear'],\n",
    "                                   how=how,indicator=True,validate=\"one_to_one\")"
   ]
  },
  {
   "cell_type": "code",
   "execution_count": null,
   "id": "01cfb260-ce53-45e0-97a4-35d5a57a96f0",
   "metadata": {},
   "outputs": [],
   "source": [
    "# Run OLS\n",
    "m1 = sm_ols('wfh% ~ startups#', data=wfh_startups).fit()\n",
    "m2 = sm_ols('wfh% ~ log_startups#', data=wfh_startups).fit()\n",
    "m3 = sm_ols('log_wfh% ~ startups#', data=wfh_startups).fit()\n",
    "\n",
    "# Print out multiple regression results at once\n",
    "table = summary_col(results=[m1,m2,m3,m4,m5,m6],\n",
    "                    float_format='%0.2f',\n",
    "                    stars = True,\n",
    "                    model_names=['m1','m2','m3'],\n",
    "                    info_dict=info_dict,\n",
    "                    # regressor_order=['Intercept','v_Lot_Area','l_lot','v_Yr_Sold',\n",
    "                                    'C(v_Yr_Sold)[T.2007]','C(v_Yr_Sold)[T.2008]'],\n",
    "                   )\n",
    "print(table)\n"
   ]
  },
  {
   "cell_type": "code",
   "execution_count": null,
   "id": "b0222a24-e085-4482-b894-c647d1f7d07f",
   "metadata": {},
   "outputs": [],
   "source": [
    "lineplot1 = sns.lineplot(data = wfh_startups,\n",
    "             x='wfh%',y='startups',hue='high_leverage') #style='gsector'"
   ]
  },
  {
   "cell_type": "code",
   "execution_count": null,
   "id": "39da8429-9c55-40ad-abd0-19d17520339d",
   "metadata": {},
   "outputs": [],
   "source": [
    "lineplot2 = sns.lineplot(data = wfh_startups,\n",
    "             x='wfh%',y='log_startups',hue='high_leverage') #style='gsector'"
   ]
  },
  {
   "cell_type": "code",
   "execution_count": null,
   "id": "82c7db1a-45e8-4017-9742-310a4770f6b7",
   "metadata": {},
   "outputs": [],
   "source": [
    "lineplot3 = sns.lineplot(data = wfh_startups,\n",
    "             x='log_wfh%',y='startups',hue='high_leverage') #style='gsector'"
   ]
  },
  {
   "cell_type": "code",
   "execution_count": null,
   "id": "30ada9bd-4f9e-4973-8353-1da53e7f47f6",
   "metadata": {},
   "outputs": [],
   "source": []
  }
 ],
 "metadata": {
  "kernelspec": {
   "display_name": "Python 3 (ipykernel)",
   "language": "python",
   "name": "python3"
  },
  "language_info": {
   "codemirror_mode": {
    "name": "ipython",
    "version": 3
   },
   "file_extension": ".py",
   "mimetype": "text/x-python",
   "name": "python",
   "nbconvert_exporter": "python",
   "pygments_lexer": "ipython3",
   "version": "3.11.5"
  }
 },
 "nbformat": 4,
 "nbformat_minor": 5
}
